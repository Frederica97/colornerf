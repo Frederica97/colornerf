{
  "cells": [
    {
      "cell_type": "markdown",
      "metadata": {
        "colab_type": "text",
        "id": "view-in-github"
      },
      "source": [
        "<a href=\"https://colab.research.google.com/github/Frederica97/colornerf/blob/main/clipnerf.ipynb\" target=\"_parent\"><img src=\"https://colab.research.google.com/assets/colab-badge.svg\" alt=\"Open In Colab\"/></a>"
      ]
    },
    {
      "cell_type": "markdown",
      "metadata": {
        "id": "iuZhAf76sNoh"
      },
      "source": [
        "[<img src=\"https://www.scenerepresentations.org/assets/logo/logo+text-negative@2x.png\" alt=\"TODO: make logo work better on Colab background\" width=\"212\"/>](https://www.scenerepresentations.org)\n",
        "\n",
        "[`MIT 6.S980, Machine Learning for Inverse Graphics`](https://www.scenerepresentations.org/courses/inverse-graphics/)\n",
        "# Homework 4: Clip NeRF\n",
        "\n",
        "### Simple Experiment Requirement\n",
        "- A dataset with a similar input-output behavior as the final dataset that\n",
        "you will use in your project. Query a single batch from your dataset and plot\n",
        "an element of that batch.\n",
        "- For any kind of single-scene overfitting method, such as NeRF, we would expect the dataset to be a dataset that yields an image, camera intrinsic parameters, and camera extrinsic parameters, and we would expect you to plot an image as well as plot or print the camera pose and intrinsic parameters.\n",
        "- For a single-scene overfitting (NeRF-like) method, the model could take the camera extrinsics and intrinsics as input, compute the corresponding rays, and query points along each ray.\n",
        "- A simple training loop, including a loss function, that can be executed to\n",
        "train your model.\n",
        "\n",
        "\n",
        "### Goal\n",
        "Edit the material and color of a NeRF with a input reference image.\n",
        "\n",
        "### Input\n",
        "There are two parts of input. The first part is a set of inital images with camera pose, intrinsic parameters, extrinsic parameters. They are used to generate the NeRF latent model. The second part is a reference image of a same type of object that we will learn from its material and color.\n",
        "\n",
        "## Output\n",
        "3 images generated from the edited NeRF, with mapped material and color."
      ]
    },
    {
      "cell_type": "markdown",
      "metadata": {
        "id": "f0sz1OZsoT1R"
      },
      "source": [
        "# Setup"
      ]
    },
    {
      "cell_type": "code",
      "execution_count": 1,
      "metadata": {
        "colab": {
          "base_uri": "https://localhost:8080/",
          "height": 1000
        },
        "id": "S55AUQrwTdJ1",
        "outputId": "893b1e8d-f4bb-4c0c-a349-5b2b4e406c56"
      },
      "outputs": [
        {
          "name": "stdout",
          "output_type": "stream",
          "text": [
            "Looking in indexes: https://download.pytorch.org/whl/cu121\n",
            "Requirement already satisfied: torch in /usr/local/lib/python3.10/dist-packages (2.1.0+cu118)\n",
            "Requirement already satisfied: torchvision in /usr/local/lib/python3.10/dist-packages (0.16.0+cu118)\n",
            "Requirement already satisfied: torchaudio in /usr/local/lib/python3.10/dist-packages (2.1.0+cu118)\n",
            "Requirement already satisfied: filelock in /usr/local/lib/python3.10/dist-packages (from torch) (3.13.1)\n",
            "Requirement already satisfied: typing-extensions in /usr/local/lib/python3.10/dist-packages (from torch) (4.5.0)\n",
            "Requirement already satisfied: sympy in /usr/local/lib/python3.10/dist-packages (from torch) (1.12)\n",
            "Requirement already satisfied: networkx in /usr/local/lib/python3.10/dist-packages (from torch) (3.2.1)\n",
            "Requirement already satisfied: jinja2 in /usr/local/lib/python3.10/dist-packages (from torch) (3.1.2)\n",
            "Requirement already satisfied: fsspec in /usr/local/lib/python3.10/dist-packages (from torch) (2023.6.0)\n",
            "Requirement already satisfied: triton==2.1.0 in /usr/local/lib/python3.10/dist-packages (from torch) (2.1.0)\n",
            "Requirement already satisfied: numpy in /usr/local/lib/python3.10/dist-packages (from torchvision) (1.23.5)\n",
            "Requirement already satisfied: requests in /usr/local/lib/python3.10/dist-packages (from torchvision) (2.31.0)\n",
            "Requirement already satisfied: pillow!=8.3.*,>=5.3.0 in /usr/local/lib/python3.10/dist-packages (from torchvision) (9.4.0)\n",
            "Requirement already satisfied: MarkupSafe>=2.0 in /usr/local/lib/python3.10/dist-packages (from jinja2->torch) (2.1.3)\n",
            "Requirement already satisfied: charset-normalizer<4,>=2 in /usr/local/lib/python3.10/dist-packages (from requests->torchvision) (3.3.2)\n",
            "Requirement already satisfied: idna<4,>=2.5 in /usr/local/lib/python3.10/dist-packages (from requests->torchvision) (3.4)\n",
            "Requirement already satisfied: urllib3<3,>=1.21.1 in /usr/local/lib/python3.10/dist-packages (from requests->torchvision) (2.0.7)\n",
            "Requirement already satisfied: certifi>=2017.4.17 in /usr/local/lib/python3.10/dist-packages (from requests->torchvision) (2023.7.22)\n",
            "Requirement already satisfied: mpmath>=0.19 in /usr/local/lib/python3.10/dist-packages (from sympy->torch) (1.3.0)\n",
            "Collecting git+https://github.com/openai/CLIP.git\n",
            "  Cloning https://github.com/openai/CLIP.git to /tmp/pip-req-build-6_q038nl\n",
            "  Running command git clone --filter=blob:none --quiet https://github.com/openai/CLIP.git /tmp/pip-req-build-6_q038nl\n",
            "  Resolved https://github.com/openai/CLIP.git to commit a1d071733d7111c9c014f024669f959182114e33\n",
            "  Preparing metadata (setup.py) ... \u001b[?25l\u001b[?25hdone\n",
            "Collecting ftfy (from clip==1.0)\n",
            "  Downloading ftfy-6.1.3-py3-none-any.whl (53 kB)\n",
            "\u001b[2K     \u001b[90m━━━━━━━━━━━━━━━━━━━━━━━━━━━━━━━━━━━━━━━━\u001b[0m \u001b[32m53.4/53.4 kB\u001b[0m \u001b[31m1.4 MB/s\u001b[0m eta \u001b[36m0:00:00\u001b[0m\n",
            "\u001b[?25hRequirement already satisfied: regex in /usr/local/lib/python3.10/dist-packages (from clip==1.0) (2023.6.3)\n",
            "Requirement already satisfied: tqdm in /usr/local/lib/python3.10/dist-packages (from clip==1.0) (4.66.1)\n",
            "Requirement already satisfied: torch in /usr/local/lib/python3.10/dist-packages (from clip==1.0) (2.1.0+cu118)\n",
            "Requirement already satisfied: torchvision in /usr/local/lib/python3.10/dist-packages (from clip==1.0) (0.16.0+cu118)\n",
            "Collecting wcwidth<0.3.0,>=0.2.12 (from ftfy->clip==1.0)\n",
            "  Downloading wcwidth-0.2.12-py2.py3-none-any.whl (34 kB)\n",
            "Requirement already satisfied: filelock in /usr/local/lib/python3.10/dist-packages (from torch->clip==1.0) (3.13.1)\n",
            "Requirement already satisfied: typing-extensions in /usr/local/lib/python3.10/dist-packages (from torch->clip==1.0) (4.5.0)\n",
            "Requirement already satisfied: sympy in /usr/local/lib/python3.10/dist-packages (from torch->clip==1.0) (1.12)\n",
            "Requirement already satisfied: networkx in /usr/local/lib/python3.10/dist-packages (from torch->clip==1.0) (3.2.1)\n",
            "Requirement already satisfied: jinja2 in /usr/local/lib/python3.10/dist-packages (from torch->clip==1.0) (3.1.2)\n",
            "Requirement already satisfied: fsspec in /usr/local/lib/python3.10/dist-packages (from torch->clip==1.0) (2023.6.0)\n",
            "Requirement already satisfied: triton==2.1.0 in /usr/local/lib/python3.10/dist-packages (from torch->clip==1.0) (2.1.0)\n",
            "Requirement already satisfied: numpy in /usr/local/lib/python3.10/dist-packages (from torchvision->clip==1.0) (1.23.5)\n",
            "Requirement already satisfied: requests in /usr/local/lib/python3.10/dist-packages (from torchvision->clip==1.0) (2.31.0)\n",
            "Requirement already satisfied: pillow!=8.3.*,>=5.3.0 in /usr/local/lib/python3.10/dist-packages (from torchvision->clip==1.0) (9.4.0)\n",
            "Requirement already satisfied: MarkupSafe>=2.0 in /usr/local/lib/python3.10/dist-packages (from jinja2->torch->clip==1.0) (2.1.3)\n",
            "Requirement already satisfied: charset-normalizer<4,>=2 in /usr/local/lib/python3.10/dist-packages (from requests->torchvision->clip==1.0) (3.3.2)\n",
            "Requirement already satisfied: idna<4,>=2.5 in /usr/local/lib/python3.10/dist-packages (from requests->torchvision->clip==1.0) (3.4)\n",
            "Requirement already satisfied: urllib3<3,>=1.21.1 in /usr/local/lib/python3.10/dist-packages (from requests->torchvision->clip==1.0) (2.0.7)\n",
            "Requirement already satisfied: certifi>=2017.4.17 in /usr/local/lib/python3.10/dist-packages (from requests->torchvision->clip==1.0) (2023.7.22)\n",
            "Requirement already satisfied: mpmath>=0.19 in /usr/local/lib/python3.10/dist-packages (from sympy->torch->clip==1.0) (1.3.0)\n",
            "Building wheels for collected packages: clip\n",
            "  Building wheel for clip (setup.py) ... \u001b[?25l\u001b[?25hdone\n",
            "  Created wheel for clip: filename=clip-1.0-py3-none-any.whl size=1369500 sha256=1f3d1df09aa33748988f4274193487a7278ff1239e5f4bcc866a1fc0c196518e\n",
            "  Stored in directory: /tmp/pip-ephem-wheel-cache-4illnfp1/wheels/da/2b/4c/d6691fa9597aac8bb85d2ac13b112deb897d5b50f5ad9a37e4\n",
            "Successfully built clip\n",
            "Installing collected packages: wcwidth, ftfy, clip\n",
            "  Attempting uninstall: wcwidth\n",
            "    Found existing installation: wcwidth 0.2.10\n",
            "    Uninstalling wcwidth-0.2.10:\n",
            "      Successfully uninstalled wcwidth-0.2.10\n",
            "Successfully installed clip-1.0 ftfy-6.1.3 wcwidth-0.2.12\n"
          ]
        },
        {
          "data": {
            "application/vnd.colab-display-data+json": {
              "pip_warning": {
                "packages": [
                  "wcwidth"
                ]
              }
            }
          },
          "metadata": {},
          "output_type": "display_data"
        },
        {
          "name": "stdout",
          "output_type": "stream",
          "text": [
            "Collecting kornia\n",
            "  Downloading kornia-0.7.0-py2.py3-none-any.whl (705 kB)\n",
            "\u001b[?25l     \u001b[90m━━━━━━━━━━━━━━━━━━━━━━━━━━━━━━━━━━━━━━━━\u001b[0m \u001b[32m0.0/705.7 kB\u001b[0m \u001b[31m?\u001b[0m eta \u001b[36m-:--:--\u001b[0m\r\u001b[2K     \u001b[91m━━━━━━\u001b[0m\u001b[91m╸\u001b[0m\u001b[90m━━━━━━━━━━━━━━━━━━━━━━━━━━━━━━━━━\u001b[0m \u001b[32m122.9/705.7 kB\u001b[0m \u001b[31m3.4 MB/s\u001b[0m eta \u001b[36m0:00:01\u001b[0m\r\u001b[2K     \u001b[90m━━━━━━━━━━━━━━━━━━━━━━━━━━━━━━━━━━━━━━━━\u001b[0m \u001b[32m705.7/705.7 kB\u001b[0m \u001b[31m10.5 MB/s\u001b[0m eta \u001b[36m0:00:00\u001b[0m\n",
            "\u001b[?25hRequirement already satisfied: packaging in /usr/local/lib/python3.10/dist-packages (from kornia) (23.2)\n",
            "Requirement already satisfied: torch>=1.9.1 in /usr/local/lib/python3.10/dist-packages (from kornia) (2.1.0+cu118)\n",
            "Requirement already satisfied: filelock in /usr/local/lib/python3.10/dist-packages (from torch>=1.9.1->kornia) (3.13.1)\n",
            "Requirement already satisfied: typing-extensions in /usr/local/lib/python3.10/dist-packages (from torch>=1.9.1->kornia) (4.5.0)\n",
            "Requirement already satisfied: sympy in /usr/local/lib/python3.10/dist-packages (from torch>=1.9.1->kornia) (1.12)\n",
            "Requirement already satisfied: networkx in /usr/local/lib/python3.10/dist-packages (from torch>=1.9.1->kornia) (3.2.1)\n",
            "Requirement already satisfied: jinja2 in /usr/local/lib/python3.10/dist-packages (from torch>=1.9.1->kornia) (3.1.2)\n",
            "Requirement already satisfied: fsspec in /usr/local/lib/python3.10/dist-packages (from torch>=1.9.1->kornia) (2023.6.0)\n",
            "Requirement already satisfied: triton==2.1.0 in /usr/local/lib/python3.10/dist-packages (from torch>=1.9.1->kornia) (2.1.0)\n",
            "Requirement already satisfied: MarkupSafe>=2.0 in /usr/local/lib/python3.10/dist-packages (from jinja2->torch>=1.9.1->kornia) (2.1.3)\n",
            "Requirement already satisfied: mpmath>=0.19 in /usr/local/lib/python3.10/dist-packages (from sympy->torch>=1.9.1->kornia) (1.3.0)\n",
            "Installing collected packages: kornia\n",
            "Successfully installed kornia-0.7.0\n"
          ]
        }
      ],
      "source": [
        "!pip install torch torchvision torchaudio --index-url https://download.pytorch.org/whl/cu121\n",
        "!pip install git+https://github.com/openai/CLIP.git\n",
        "!pip install --upgrade kornia"
      ]
    },
    {
      "cell_type": "code",
      "execution_count": 2,
      "metadata": {
        "colab": {
          "base_uri": "https://localhost:8080/"
        },
        "id": "UwJQ71XBbH2p",
        "outputId": "389d9c63-6f6d-4a60-bedf-74b51c52b4c6"
      },
      "outputs": [
        {
          "name": "stdout",
          "output_type": "stream",
          "text": [
            "/content\n",
            "Cloning into 'colornerf'...\n",
            "remote: Enumerating objects: 1504, done.\u001b[K\n",
            "remote: Counting objects: 100% (3/3), done.\u001b[K\n",
            "remote: Compressing objects: 100% (3/3), done.\u001b[K\n",
            "remote: Total 1504 (delta 0), reused 1 (delta 0), pack-reused 1501\u001b[K\n",
            "Receiving objects: 100% (1504/1504), 448.38 MiB | 13.54 MiB/s, done.\n",
            "Resolving deltas: 100% (49/49), done.\n",
            "Updating files: 100% (1447/1447), done.\n",
            "/content/colornerf\n",
            "Requirement already satisfied: imageio in /usr/local/lib/python3.10/dist-packages (from -r requirements.txt (line 1)) (2.31.6)\n",
            "Requirement already satisfied: imageio-ffmpeg in /usr/local/lib/python3.10/dist-packages (from -r requirements.txt (line 2)) (0.4.9)\n",
            "Requirement already satisfied: matplotlib in /usr/local/lib/python3.10/dist-packages (from -r requirements.txt (line 3)) (3.7.1)\n",
            "Collecting configargparse (from -r requirements.txt (line 4))\n",
            "  Downloading ConfigArgParse-1.7-py3-none-any.whl (25 kB)\n",
            "Requirement already satisfied: tensorboard>=2.0 in /usr/local/lib/python3.10/dist-packages (from -r requirements.txt (line 5)) (2.14.1)\n",
            "Requirement already satisfied: tqdm in /usr/local/lib/python3.10/dist-packages (from -r requirements.txt (line 6)) (4.66.1)\n",
            "Requirement already satisfied: opencv-python in /usr/local/lib/python3.10/dist-packages (from -r requirements.txt (line 7)) (4.8.0.76)\n",
            "Requirement already satisfied: numpy in /usr/local/lib/python3.10/dist-packages (from imageio->-r requirements.txt (line 1)) (1.23.5)\n",
            "Requirement already satisfied: pillow<10.1.0,>=8.3.2 in /usr/local/lib/python3.10/dist-packages (from imageio->-r requirements.txt (line 1)) (9.4.0)\n",
            "Requirement already satisfied: setuptools in /usr/local/lib/python3.10/dist-packages (from imageio-ffmpeg->-r requirements.txt (line 2)) (67.7.2)\n",
            "Requirement already satisfied: contourpy>=1.0.1 in /usr/local/lib/python3.10/dist-packages (from matplotlib->-r requirements.txt (line 3)) (1.2.0)\n",
            "Requirement already satisfied: cycler>=0.10 in /usr/local/lib/python3.10/dist-packages (from matplotlib->-r requirements.txt (line 3)) (0.12.1)\n",
            "Requirement already satisfied: fonttools>=4.22.0 in /usr/local/lib/python3.10/dist-packages (from matplotlib->-r requirements.txt (line 3)) (4.44.3)\n",
            "Requirement already satisfied: kiwisolver>=1.0.1 in /usr/local/lib/python3.10/dist-packages (from matplotlib->-r requirements.txt (line 3)) (1.4.5)\n",
            "Requirement already satisfied: packaging>=20.0 in /usr/local/lib/python3.10/dist-packages (from matplotlib->-r requirements.txt (line 3)) (23.2)\n",
            "Requirement already satisfied: pyparsing>=2.3.1 in /usr/local/lib/python3.10/dist-packages (from matplotlib->-r requirements.txt (line 3)) (3.1.1)\n",
            "Requirement already satisfied: python-dateutil>=2.7 in /usr/local/lib/python3.10/dist-packages (from matplotlib->-r requirements.txt (line 3)) (2.8.2)\n",
            "Requirement already satisfied: absl-py>=0.4 in /usr/local/lib/python3.10/dist-packages (from tensorboard>=2.0->-r requirements.txt (line 5)) (1.4.0)\n",
            "Requirement already satisfied: grpcio>=1.48.2 in /usr/local/lib/python3.10/dist-packages (from tensorboard>=2.0->-r requirements.txt (line 5)) (1.59.2)\n",
            "Requirement already satisfied: google-auth<3,>=1.6.3 in /usr/local/lib/python3.10/dist-packages (from tensorboard>=2.0->-r requirements.txt (line 5)) (2.17.3)\n",
            "Requirement already satisfied: google-auth-oauthlib<1.1,>=0.5 in /usr/local/lib/python3.10/dist-packages (from tensorboard>=2.0->-r requirements.txt (line 5)) (1.0.0)\n",
            "Requirement already satisfied: markdown>=2.6.8 in /usr/local/lib/python3.10/dist-packages (from tensorboard>=2.0->-r requirements.txt (line 5)) (3.5.1)\n",
            "Requirement already satisfied: protobuf>=3.19.6 in /usr/local/lib/python3.10/dist-packages (from tensorboard>=2.0->-r requirements.txt (line 5)) (3.20.3)\n",
            "Requirement already satisfied: requests<3,>=2.21.0 in /usr/local/lib/python3.10/dist-packages (from tensorboard>=2.0->-r requirements.txt (line 5)) (2.31.0)\n",
            "Requirement already satisfied: six>1.9 in /usr/local/lib/python3.10/dist-packages (from tensorboard>=2.0->-r requirements.txt (line 5)) (1.16.0)\n",
            "Requirement already satisfied: tensorboard-data-server<0.8.0,>=0.7.0 in /usr/local/lib/python3.10/dist-packages (from tensorboard>=2.0->-r requirements.txt (line 5)) (0.7.2)\n",
            "Requirement already satisfied: werkzeug>=1.0.1 in /usr/local/lib/python3.10/dist-packages (from tensorboard>=2.0->-r requirements.txt (line 5)) (3.0.1)\n",
            "Requirement already satisfied: cachetools<6.0,>=2.0.0 in /usr/local/lib/python3.10/dist-packages (from google-auth<3,>=1.6.3->tensorboard>=2.0->-r requirements.txt (line 5)) (5.3.2)\n",
            "Requirement already satisfied: pyasn1-modules>=0.2.1 in /usr/local/lib/python3.10/dist-packages (from google-auth<3,>=1.6.3->tensorboard>=2.0->-r requirements.txt (line 5)) (0.3.0)\n",
            "Requirement already satisfied: rsa<5,>=3.1.4 in /usr/local/lib/python3.10/dist-packages (from google-auth<3,>=1.6.3->tensorboard>=2.0->-r requirements.txt (line 5)) (4.9)\n",
            "Requirement already satisfied: requests-oauthlib>=0.7.0 in /usr/local/lib/python3.10/dist-packages (from google-auth-oauthlib<1.1,>=0.5->tensorboard>=2.0->-r requirements.txt (line 5)) (1.3.1)\n",
            "Requirement already satisfied: charset-normalizer<4,>=2 in /usr/local/lib/python3.10/dist-packages (from requests<3,>=2.21.0->tensorboard>=2.0->-r requirements.txt (line 5)) (3.3.2)\n",
            "Requirement already satisfied: idna<4,>=2.5 in /usr/local/lib/python3.10/dist-packages (from requests<3,>=2.21.0->tensorboard>=2.0->-r requirements.txt (line 5)) (3.4)\n",
            "Requirement already satisfied: urllib3<3,>=1.21.1 in /usr/local/lib/python3.10/dist-packages (from requests<3,>=2.21.0->tensorboard>=2.0->-r requirements.txt (line 5)) (2.0.7)\n",
            "Requirement already satisfied: certifi>=2017.4.17 in /usr/local/lib/python3.10/dist-packages (from requests<3,>=2.21.0->tensorboard>=2.0->-r requirements.txt (line 5)) (2023.7.22)\n",
            "Requirement already satisfied: MarkupSafe>=2.1.1 in /usr/local/lib/python3.10/dist-packages (from werkzeug>=1.0.1->tensorboard>=2.0->-r requirements.txt (line 5)) (2.1.3)\n",
            "Requirement already satisfied: pyasn1<0.6.0,>=0.4.6 in /usr/local/lib/python3.10/dist-packages (from pyasn1-modules>=0.2.1->google-auth<3,>=1.6.3->tensorboard>=2.0->-r requirements.txt (line 5)) (0.5.0)\n",
            "Requirement already satisfied: oauthlib>=3.0.0 in /usr/local/lib/python3.10/dist-packages (from requests-oauthlib>=0.7.0->google-auth-oauthlib<1.1,>=0.5->tensorboard>=2.0->-r requirements.txt (line 5)) (3.2.2)\n",
            "Installing collected packages: configargparse\n",
            "Successfully installed configargparse-1.7\n"
          ]
        }
      ],
      "source": [
        "%cd /content\n",
        "!git clone https://github.com/Frederica97/colornerf.git\n",
        "%cd /content/colornerf\n",
        "!pip install -r requirements.txt"
      ]
    },
    {
      "cell_type": "code",
      "execution_count": 3,
      "metadata": {
        "colab": {
          "base_uri": "https://localhost:8080/"
        },
        "id": "nwwsPZBfURR9",
        "outputId": "c761ec8b-5353-45e3-eee4-5c349db3e368"
      },
      "outputs": [
        {
          "name": "stdout",
          "output_type": "stream",
          "text": [
            "Using device: cuda\n"
          ]
        }
      ],
      "source": [
        "import os\n",
        "import imageio\n",
        "import time\n",
        "import torch\n",
        "import torchvision\n",
        "import numpy as np\n",
        "import torch.nn as nn\n",
        "import torch.nn.functional as F\n",
        "import torch.utils.data as data\n",
        "import matplotlib.pyplot as plt\n",
        "from PIL import Image\n",
        "from tqdm import tqdm, trange\n",
        "\n",
        "device = torch.device(\"cuda\" if torch.cuda.is_available() else \"cpu\")\n",
        "print(f\"Using device: {device}\")\n",
        "np.random.seed(0)\n",
        "DEBUG = False"
      ]
    },
    {
      "cell_type": "markdown",
      "metadata": {
        "id": "UlIC944wbr9L"
      },
      "source": [
        "## Part 1.1: Load Data\n",
        "\n",
        "Load NeRF data with image, camera pose, and intrinsic param information, using the load_blender_data function."
      ]
    },
    {
      "cell_type": "code",
      "execution_count": 4,
      "metadata": {
        "id": "16gLfuA7S6ZS"
      },
      "outputs": [],
      "source": [
        "from load_blender import load_blender_data\n",
        "\n",
        "def loadData():\n",
        "    datadir = \"./data/nerf_synthetic/lego\"\n",
        "    half_res = True\n",
        "    testskip = 8\n",
        "    white_bkgd = True\n",
        "\n",
        "    # Load data\n",
        "    K = None\n",
        "    images, poses, render_poses, hwf, i_split = load_blender_data(datadir, half_res, testskip)\n",
        "    print('Loaded blender', images.shape, render_poses.shape, hwf, datadir)\n",
        "    i_train, i_val, i_test = i_split\n",
        "\n",
        "    if white_bkgd:\n",
        "        images = images[...,:3]*images[...,-1:] + (1.-images[...,-1:])\n",
        "    else:\n",
        "        images = images[...,:3]\n",
        "\n",
        "    # intrinsics param\n",
        "    H, W, focal = hwf\n",
        "    H, W = int(H), int(W)\n",
        "    hwf = [H, W, focal]\n",
        "\n",
        "    if K is None:\n",
        "        K = np.array([\n",
        "            [focal, 0, 0.5*W],\n",
        "            [0, focal, 0.5*H],\n",
        "            [0, 0, 1]\n",
        "        ])\n",
        "\n",
        "    print('intrinsic param: \\n', K)\n",
        "    print('camera pose: \\n', poses[0])\n",
        "\n",
        "    plt.imshow(images[0])\n",
        "    plt.show()\n",
        "    return images, K, poses, render_poses, hwf, i_train, i_val, i_test\n"
      ]
    },
    {
      "cell_type": "markdown",
      "metadata": {
        "id": "16MIfsogcjIk"
      },
      "source": [
        "## Part 1.2: Create NeRF\n"
      ]
    },
    {
      "cell_type": "code",
      "execution_count": 5,
      "metadata": {
        "id": "NJLKvhx6coWn"
      },
      "outputs": [],
      "source": [
        "from run_nerf_helpers import get_embedder\n",
        "from run_nerf_clip import run_network\n",
        "\n",
        "def create_nerf(N_importance = 0):\n",
        "\n",
        "    use_viewdirs = True\n",
        "\n",
        "    input_ch_views = 0\n",
        "    embeddirs_fn = None\n",
        "\n",
        "    multires = 10\n",
        "    multires_views = 4\n",
        "    i_embed = 0\n",
        "    embed_fn, input_ch = get_embedder(multires, i_embed)\n",
        "    if use_viewdirs:\n",
        "        embeddirs_fn, input_ch_views = get_embedder(multires_views, i_embed)\n",
        "    output_ch = 5 if N_importance > 0 else 4\n",
        "\n",
        "    skips = [4]\n",
        "    netdepth = 8 # layers in the network\n",
        "    netwidth = 256 # channels per layer\n",
        "    netchunk = 1024*64\n",
        "\n",
        "    model = NeRF(D=netdepth, W=netwidth,\n",
        "                 input_ch=input_ch, output_ch=output_ch, skips=skips,\n",
        "                 input_ch_views=input_ch_views, use_viewdirs=use_viewdirs).to(device)\n",
        "    grad_vars = list(model.parameters())\n",
        "\n",
        "    model_fine = None\n",
        "    network_query_fn = lambda inputs, viewdirs, network_fn : run_network(inputs, viewdirs, network_fn,\n",
        "                                                                embed_fn=embed_fn,\n",
        "                                                                embeddirs_fn=embeddirs_fn,\n",
        "                                                                netchunk=netchunk)\n",
        "\n",
        "    #optimizer = torch.optim.Adam(params=grad_vars, lr=args.lrate, betas=(0.9, 0.999)) # original NeRF optimizer\n",
        "    lrate = 5e-4\n",
        "    optimizer = torch.optim.Adam(grad_vars, lr=lrate, betas=(0.9, 0.999))\n",
        "\n",
        "    start = 0\n",
        "    perturb = 1 # set to 0. for no jitter, 1. for jitter\n",
        "    white_bkgd = True\n",
        "    N_samples = 64\n",
        "    raw_noise_std = 0 # std dev of noise added to regularize sigma_a output, 1e0 recommended\n",
        "\n",
        "\n",
        "    ft_path = \"./checkpoint/2000000.tar\"\n",
        "    ##########################\n",
        "\n",
        "    # Load checkpoints\n",
        "    if ft_path is not None and ft_path!='None':\n",
        "        ckpts = [ft_path]\n",
        "    else:\n",
        "        ckpts = [os.path.join(basedir, expname, f) for f in sorted(os.listdir(os.path.join(basedir, expname))) if 'tar' in f]\n",
        "\n",
        "    print('Found ckpts', ckpts)\n",
        "    if len(ckpts) > 0 and not args.no_reload:\n",
        "        ckpt_path = ckpts[-1]\n",
        "        print('Reloading from', ckpt_path)\n",
        "        ckpt = torch.load(ckpt_path)\n",
        "\n",
        "        start = ckpt['global_step']\n",
        "        # use new optimizer .............\n",
        "        #optimizer.load_state_dict(ckpt['optimizer_state_dict'])\n",
        "\n",
        "        # Load model\n",
        "        model.load_state_dict(ckpt['network_fn_state_dict'])\n",
        "        if model_fine is not None:\n",
        "            model_fine.load_state_dict(ckpt['network_fine_state_dict'])\n",
        "\n",
        "    ##########################\n",
        "\n",
        "\n",
        "\n",
        "    # Prepare raybatch tensor if batching random rays\n",
        "    render_kwargs_train = {\n",
        "        'network_query_fn' : network_query_fn,\n",
        "        'perturb' : perturb,\n",
        "        'N_importance' : N_importance,\n",
        "        'network_fine' : model_fine,\n",
        "        'N_samples' : N_samples,\n",
        "        'network_fn' : model,\n",
        "        'use_viewdirs' : use_viewdirs,\n",
        "        'white_bkgd' : white_bkgd,\n",
        "        'raw_noise_std' : raw_noise_std,\n",
        "    }\n",
        "\n",
        "    dataset_type = \"blender\"\n",
        "    basedir = './logs'\n",
        "    expname = \"blender_paper_lego\"\n",
        "    lindisp = True\n",
        "\n",
        "    # NDC only good for LLFF-style forward facing data\n",
        "    if dataset_type != 'llff':\n",
        "        print('Not ndc!')\n",
        "        render_kwargs_train['ndc'] = False\n",
        "        render_kwargs_train['lindisp'] = lindisp # sampling linearly in disparity rather than depth\n",
        "\n",
        "    render_kwargs_test = {k : render_kwargs_train[k] for k in render_kwargs_train}\n",
        "    render_kwargs_test['perturb'] = False\n",
        "    render_kwargs_test['raw_noise_std'] = 0.\n",
        "\n",
        "\n",
        "\n",
        "    return render_kwargs_train, render_kwargs_test, start, grad_vars, optimizer\n",
        "\n"
      ]
    },
    {
      "cell_type": "code",
      "execution_count": 6,
      "metadata": {
        "id": "baCWABNpi9-w"
      },
      "outputs": [],
      "source": [
        "# Model\n",
        "class NeRF(nn.Module):\n",
        "    def __init__(self, D=8, W=256, input_ch=3, input_ch_views=3, output_ch=4, skips=[4], use_viewdirs=False):\n",
        "        \"\"\"\n",
        "        \"\"\"\n",
        "        super(NeRF, self).__init__()\n",
        "        self.D = D\n",
        "        self.W = W\n",
        "        self.input_ch = input_ch\n",
        "        self.input_ch_views = input_ch_views\n",
        "        self.skips = skips\n",
        "        self.use_viewdirs = use_viewdirs\n",
        "\n",
        "        self.pts_linears = nn.ModuleList(\n",
        "                [nn.Linear(input_ch, W)] + [nn.Linear(W, W) if i not in self.skips else nn.Linear(W + input_ch, W) for i in range(D-1)])\n",
        "\n",
        "        ### Implementation according to the official code release (https://github.com/bmild/nerf/blob/master/run_nerf_helpers.py#L104-L105)\n",
        "        self.views_linears = nn.ModuleList([nn.Linear(input_ch_views + W, W//2)])\n",
        "\n",
        "        ### Implementation according to the paper\n",
        "        # self.views_linears = nn.ModuleList(\n",
        "        #     [nn.Linear(input_ch_views + W, W//2)] + [nn.Linear(W//2, W//2) for i in range(D//2)])\n",
        "\n",
        "        if use_viewdirs:\n",
        "            self.feature_linear = nn.Linear(W, W)\n",
        "            self.alpha_linear = nn.Linear(W, 1)\n",
        "            self.rgb_linear = nn.Linear(W//2, 3)\n",
        "        else:\n",
        "            self.output_linear = nn.Linear(W, output_ch)\n",
        "\n",
        "    def forward(self, x):\n",
        "        input_pts, input_views = torch.split(x, [self.input_ch, self.input_ch_views], dim=-1)\n",
        "        h = input_pts\n",
        "        for i, l in enumerate(self.pts_linears):\n",
        "            h = self.pts_linears[i](h)\n",
        "            h = F.relu(h)\n",
        "            if i in self.skips:\n",
        "                h = torch.cat([input_pts, h], -1)\n",
        "\n",
        "        if self.use_viewdirs:\n",
        "            alpha = self.alpha_linear(h)\n",
        "            feature = self.feature_linear(h)\n",
        "            h = torch.cat([feature, input_views], -1)\n",
        "\n",
        "            for i, l in enumerate(self.views_linears):\n",
        "                h = self.views_linears[i](h)\n",
        "                h = F.relu(h)\n",
        "\n",
        "            rgb = self.rgb_linear(h)\n",
        "            outputs = torch.cat([rgb, alpha], -1)\n",
        "        else:\n",
        "            outputs = self.output_linear(h)\n",
        "\n",
        "        return outputs\n",
        "\n",
        "    def load_weights_from_keras(self, weights):\n",
        "        assert self.use_viewdirs, \"Not implemented if use_viewdirs=False\"\n",
        "\n",
        "        # Load pts_linears\n",
        "        for i in range(self.D):\n",
        "            idx_pts_linears = 2 * i\n",
        "            self.pts_linears[i].weight.data = torch.from_numpy(np.transpose(weights[idx_pts_linears]))\n",
        "            self.pts_linears[i].bias.data = torch.from_numpy(np.transpose(weights[idx_pts_linears+1]))\n",
        "\n",
        "        # Load feature_linear\n",
        "        idx_feature_linear = 2 * self.D\n",
        "        self.feature_linear.weight.data = torch.from_numpy(np.transpose(weights[idx_feature_linear]))\n",
        "        self.feature_linear.bias.data = torch.from_numpy(np.transpose(weights[idx_feature_linear+1]))\n",
        "\n",
        "        # Load views_linears\n",
        "        idx_views_linears = 2 * self.D + 2\n",
        "        self.views_linears[0].weight.data = torch.from_numpy(np.transpose(weights[idx_views_linears]))\n",
        "        self.views_linears[0].bias.data = torch.from_numpy(np.transpose(weights[idx_views_linears+1]))\n",
        "\n",
        "        # Load rgb_linear\n",
        "        idx_rbg_linear = 2 * self.D + 4\n",
        "        self.rgb_linear.weight.data = torch.from_numpy(np.transpose(weights[idx_rbg_linear]))\n",
        "        self.rgb_linear.bias.data = torch.from_numpy(np.transpose(weights[idx_rbg_linear+1]))\n",
        "\n",
        "        # Load alpha_linear\n",
        "        idx_alpha_linear = 2 * self.D + 6\n",
        "        self.alpha_linear.weight.data = torch.from_numpy(np.transpose(weights[idx_alpha_linear]))\n",
        "        self.alpha_linear.bias.data = torch.from_numpy(np.transpose(weights[idx_alpha_linear+1]))\n"
      ]
    },
    {
      "cell_type": "code",
      "execution_count": 7,
      "metadata": {
        "id": "O3IEKrmDBQ2B"
      },
      "outputs": [],
      "source": [
        "# create_nerf()"
      ]
    },
    {
      "cell_type": "markdown",
      "metadata": {
        "id": "_yHyMdVqbyJg"
      },
      "source": [
        "## Part 1.3: Render function\n",
        "\n",
        "Prepare a render function to render in batch."
      ]
    },
    {
      "cell_type": "code",
      "execution_count": 8,
      "metadata": {
        "id": "ixybBK89XMJM"
      },
      "outputs": [],
      "source": [
        "from run_nerf_clip import batchify_rays\n",
        "from run_nerf_helpers import get_rays, ndc_rays\n",
        "\n",
        "def render(H, W, K, chunk=1024*32, rays=None, c2w=None, ndc=True,\n",
        "                  near=0., far=1.,\n",
        "                  use_viewdirs=False, c2w_staticcam=None,\n",
        "                  **kwargs):\n",
        "    \"\"\"Render rays\n",
        "    Args:\n",
        "      H: int. Height of image in pixels.\n",
        "      W: int. Width of image in pixels.\n",
        "      focal: float. Focal length of pinhole camera.\n",
        "      chunk: int. Maximum number of rays to process simultaneously. Used to\n",
        "        control maximum memory usage. Does not affect final results.\n",
        "      rays: array of shape [2, batch_size, 3]. Ray origin and direction for\n",
        "        each example in batch.\n",
        "      c2w: array of shape [3, 4]. Camera-to-world transformation matrix.\n",
        "      ndc: bool. If True, represent ray origin, direction in NDC coordinates.\n",
        "      near: float or array of shape [batch_size]. Nearest distance for a ray.\n",
        "      far: float or array of shape [batch_size]. Farthest distance for a ray.\n",
        "      use_viewdirs: bool. If True, use viewing direction of a point in space in model.\n",
        "      c2w_staticcam: array of shape [3, 4]. If not None, use this transformation matrix for\n",
        "       camera while using other c2w argument for viewing directions.\n",
        "    Returns:\n",
        "      rgb_map: [batch_size, 3]. Predicted RGB values for rays.\n",
        "      disp_map: [batch_size]. Disparity map. Inverse of depth.\n",
        "      acc_map: [batch_size]. Accumulated opacity (alpha) along a ray.\n",
        "      extras: dict with everything returned by render_rays().\n",
        "    \"\"\"\n",
        "    if c2w is not None:\n",
        "        # special case to render full image\n",
        "        rays_o, rays_d = get_rays(H, W, K, c2w)\n",
        "    else:\n",
        "        # use provided ray batch\n",
        "        rays_o, rays_d = rays\n",
        "\n",
        "    if use_viewdirs:\n",
        "        # provide ray directions as input\n",
        "        viewdirs = rays_d\n",
        "        if c2w_staticcam is not None:\n",
        "            # special case to visualize effect of viewdirs\n",
        "            rays_o, rays_d = get_rays(H, W, K, c2w_staticcam)\n",
        "        viewdirs = viewdirs / torch.norm(viewdirs, dim=-1, keepdim=True)\n",
        "        viewdirs = torch.reshape(viewdirs, [-1,3]).float()\n",
        "\n",
        "    sh = rays_d.shape # [..., 3]\n",
        "    if ndc:\n",
        "        # for forward facing scenes\n",
        "        rays_o, rays_d = ndc_rays(H, W, K[0][0], 1., rays_o, rays_d)\n",
        "\n",
        "    # Create ray batch\n",
        "    rays_o = torch.reshape(rays_o, [-1,3]).float()\n",
        "    rays_d = torch.reshape(rays_d, [-1,3]).float()\n",
        "\n",
        "    near, far = near * torch.ones_like(rays_d[...,:1]), far * torch.ones_like(rays_d[...,:1])\n",
        "    rays = torch.cat([rays_o, rays_d, near, far], -1)\n",
        "    if use_viewdirs:\n",
        "        rays = torch.cat([rays, viewdirs], -1)\n",
        "\n",
        "    # Render and reshape\n",
        "    all_ret = batchify_rays(rays, chunk, **kwargs)\n",
        "    for k in all_ret:\n",
        "        k_sh = list(sh[:-1]) + list(all_ret[k].shape[1:])\n",
        "        all_ret[k] = torch.reshape(all_ret[k], k_sh)\n",
        "\n",
        "    k_extract = ['rgb_map', 'disp_map', 'acc_map']\n",
        "    ret_list = [all_ret[k] for k in k_extract]\n",
        "    ret_dict = {k : all_ret[k] for k in all_ret if k not in k_extract}\n",
        "    return ret_list + [ret_dict]"
      ]
    },
    {
      "cell_type": "code",
      "execution_count": 9,
      "metadata": {
        "id": "VHGzt4E2nasA"
      },
      "outputs": [],
      "source": [
        "def render_path(render_poses, hwf, K, chunk, render_kwargs, gt_imgs=None, savedir=None, render_factor=0):\n",
        "\n",
        "    H, W, focal = hwf\n",
        "\n",
        "    if render_factor!=0:\n",
        "        # Render downsampled for speed\n",
        "        H = H//render_factor\n",
        "        W = W//render_factor\n",
        "        focal = focal/render_factor\n",
        "\n",
        "    rgbs = []\n",
        "    disps = []\n",
        "\n",
        "    t = time.time()\n",
        "    for i, c2w in enumerate(tqdm(render_poses)):\n",
        "        # print(i, time.time() - t)\n",
        "        t = time.time()\n",
        "        rgb, disp, acc, _ = render(H, W, K, chunk=chunk, c2w=c2w[:3,:4], **render_kwargs)\n",
        "        rgbs.append(rgb.cpu().numpy())\n",
        "        disps.append(disp.cpu().numpy())\n",
        "        if i==0:\n",
        "            print(rgb.shape, disp.shape)\n",
        "\n",
        "        \"\"\"\n",
        "        if gt_imgs is not None and render_factor==0:\n",
        "            p = -10. * np.log10(np.mean(np.square(rgb.cpu().numpy() - gt_imgs[i])))\n",
        "            print(p)\n",
        "        \"\"\"\n",
        "\n",
        "        if savedir is not None:\n",
        "            rgb8 = to8b(rgbs[-1])\n",
        "            filename = os.path.join(savedir, '{:03d}.png'.format(i))\n",
        "            imageio.imwrite(filename, rgb8)\n",
        "\n",
        "\n",
        "    rgbs = np.stack(rgbs, 0)\n",
        "    disps = np.stack(disps, 0)\n",
        "\n",
        "    return rgbs, disps"
      ]
    },
    {
      "cell_type": "markdown",
      "metadata": {
        "id": "zuGhz5xTkf9b"
      },
      "source": [
        "## Part 2: Clip"
      ]
    },
    {
      "cell_type": "code",
      "execution_count": 10,
      "metadata": {
        "id": "LYnMTNJukc9q"
      },
      "outputs": [],
      "source": [
        "import clip\n",
        "\n",
        "class CLIPLoss(torch.nn.Module):\n",
        "\n",
        "    def __init__(self):\n",
        "        super(CLIPLoss, self).__init__()\n",
        "        self.model, self.preprocess = clip.load(\"ViT-B/32\", device=\"cuda\")\n",
        "        #self.upsample = torch.nn.Upsample(scale_factor=7)\n",
        "        #self.avg_pool = torch.nn.AvgPool2d(kernel_size=opts.stylegan_size // 32)\n",
        "\n",
        "    def forward(self, image, text):\n",
        "        image = torch.nn.functional.interpolate(image, size=(224, 224), mode='bilinear', align_corners=False)\n",
        "        #image = self.avg_pool(self.upsample(image))\n",
        "        similarity = 1 - self.model(image, text)[0] / 100\n",
        "        return similarity#.mean()\n"
      ]
    },
    {
      "cell_type": "markdown",
      "metadata": {
        "id": "x_zmI9vIc3GX"
      },
      "source": [
        "## Part 3: Clip Nerf\n",
        "\n",
        "### Part 3.1: Train\n"
      ]
    },
    {
      "cell_type": "code",
      "execution_count": 11,
      "metadata": {
        "colab": {
          "base_uri": "https://localhost:8080/"
        },
        "id": "bUjbNqFONoGp",
        "outputId": "f21fd8d6-f7c6-432f-f7e0-60d826f4e405"
      },
      "outputs": [
        {
          "name": "stdout",
          "output_type": "stream",
          "text": [
            "Mounted at /content/drive\n"
          ]
        }
      ],
      "source": [
        "from google.colab import drive\n",
        "drive.mount('/content/drive')\n"
      ]
    },
    {
      "cell_type": "code",
      "execution_count": 12,
      "metadata": {
        "id": "zj1eam1fEiHr"
      },
      "outputs": [],
      "source": [
        "device = torch.device(\"cuda\" if torch.cuda.is_available() else \"cpu\")\n",
        "\n",
        "img2mse = lambda x, y : torch.mean((x - y) ** 2).to(device)\n",
        "mse2psnr = lambda x : -10. * torch.log(x) / torch.log(torch.Tensor([10.])).to(device)\n",
        "to8b = lambda x : (255*np.clip(x,0,1)).astype(np.uint8)"
      ]
    },
    {
      "cell_type": "code",
      "execution_count": 12,
      "metadata": {
        "id": "At3M3eLYJR9n"
      },
      "outputs": [],
      "source": []
    },
    {
      "cell_type": "code",
      "execution_count": 33,
      "metadata": {
        "id": "qYZ0dONhpj0b"
      },
      "outputs": [],
      "source": [
        "from run_nerf_helpers import get_rays_np\n",
        "from run_nerf_clip import get_select_inds\n",
        "import kornia\n",
        "\n",
        "\n",
        "def train():\n",
        "    images, K, poses, render_poses, hwf, i_train, i_val, i_test  = loadData()\n",
        "    H, W, focal = hwf\n",
        "    H, W = int(H), int(W)\n",
        "\n",
        "    # Create nerf model\n",
        "    render_kwargs_train, render_kwargs_test, start, grad_vars, optimizer = create_nerf()\n",
        "    global_step = start\n",
        "\n",
        "    bds_dict = {\n",
        "        'near' : 2,\n",
        "        'far' : 6,\n",
        "    }\n",
        "    render_kwargs_train.update(bds_dict)\n",
        "    render_kwargs_test.update(bds_dict)\n",
        "\n",
        "    # Move testing data to GPU\n",
        "    render_poses = torch.Tensor(render_poses).to(device)\n",
        "\n",
        "    # Prepare raybatch tensor if batching random rays\n",
        "    N_rand = 32*32*4\n",
        "    N_iters = 5001 + 1\n",
        "\n",
        "    # For random ray batching\n",
        "    rays = np.stack([get_rays_np(H, W, K, p) for p in poses[:,:3,:4]], 0) # [N, ro+rd, H, W, 3]\n",
        "    rays_rgb = np.concatenate([rays, images[:,None]], 1) # [N, ro+rd+rgb, H, W, 3]\n",
        "    rays_rgb = np.transpose(rays_rgb, [0,2,3,1,4]) # [N, H, W, ro+rd+rgb, 3]\n",
        "    rays_rgb = np.stack([rays_rgb[i] for i in i_train], 0) # train images only\n",
        "    rays_rgb = np.reshape(rays_rgb, [-1,3,3]) # [(N-1)*H*W, ro+rd+rgb, 3]\n",
        "    rays_rgb = rays_rgb.astype(np.float32)\n",
        "    np.random.shuffle(rays_rgb)\n",
        "\n",
        "    i_batch = 0\n",
        "\n",
        "    # Move training data to GPU\n",
        "    images = torch.Tensor(images).to(device)\n",
        "    poses = torch.Tensor(poses).to(device)\n",
        "    rays_rgb = torch.Tensor(rays_rgb).to(device)\n",
        "\n",
        "\n",
        "\n",
        "    print('Begin')\n",
        "    print('TRAIN views are', i_train)\n",
        "    print('TEST views are', i_test)\n",
        "    print('VAL views are', i_val)\n",
        "\n",
        "    basedir = \"./logs\"\n",
        "    expname = \"blender_paper_lego\"\n",
        "\n",
        "    description = \"A pink excavator\"\n",
        "    sample_scale = 60\n",
        "    chunk = 1024*32\n",
        "    w_clip = 1.0\n",
        "    use_clip = True\n",
        "    lrate = 5e-4\n",
        "    lrate_decay = 250\n",
        "\n",
        "    # logging/saving options\n",
        "    i_weights = 500\n",
        "    i_testset = 1000\n",
        "    i_print = 500\n",
        "\n",
        "    # CLIP loss\n",
        "    text_inputs = torch.cat([clip.tokenize(description)])\n",
        "    clip_loss = CLIPLoss()\n",
        "\n",
        "    start = start + 1\n",
        "\n",
        "    for i in trange(start, N_iters):\n",
        "        # Sample random ray batch\n",
        "        # Random over all images\n",
        "        batch = rays_rgb[i_batch:i_batch+N_rand] # [B, 2+1, 3*?]\n",
        "        batch = torch.transpose(batch, 0, 1)\n",
        "        batch_rays, target_s = batch[:2], batch[2]\n",
        "\n",
        "        # print (\"Random over all images:\", target_s.shape)\n",
        "\n",
        "        i_batch += N_rand\n",
        "        if i_batch >= rays_rgb.shape[0]:\n",
        "            print(\"Shuffle data after an epoch!\")\n",
        "            rand_idx = torch.randperm(rays_rgb.shape[0])\n",
        "            rays_rgb = rays_rgb[rand_idx]\n",
        "            i_batch = 0\n",
        "\n",
        "        else:\n",
        "            # Random from one image\n",
        "            img_i = np.random.choice(i_train)\n",
        "            target = images[img_i]\n",
        "            target = torch.Tensor(target).to(device)\n",
        "            pose = poses[img_i, :3,:4]\n",
        "\n",
        "            rays_o, rays_d = get_rays(H, W, K, torch.Tensor(pose))  # (H, W, 3), (H, W, 3)\n",
        "\n",
        "            select_inds = get_select_inds(sample_scale * sample_scale, i)\n",
        "\n",
        "            rays_o = torch.nn.functional.grid_sample(rays_o.permute(2, 0, 1).unsqueeze(0),\n",
        "                                                     select_inds.unsqueeze(0), mode='bilinear', align_corners=True)[0]\n",
        "            rays_d = torch.nn.functional.grid_sample(rays_d.permute(2, 0, 1).unsqueeze(0),\n",
        "                                                     select_inds.unsqueeze(0), mode='bilinear', align_corners=True)[0]\n",
        "            rays_o = rays_o.permute(1, 2, 0).view(-1, 3)\n",
        "            rays_d = rays_d.permute(1, 2, 0).view(-1, 3)\n",
        "\n",
        "            target_s = torch.nn.functional.grid_sample(target.permute(2, 0, 1).unsqueeze(0),\n",
        "                                                     select_inds.unsqueeze(0), mode='bilinear', align_corners=True)[0]\n",
        "            target_s = target_s.permute(1, 2, 0).view(-1, 3)\n",
        "\n",
        "            batch_rays = torch.stack([rays_o, rays_d], 0)\n",
        "\n",
        "        # Optimization loop\n",
        "        rgb, disp, acc, extras = render(H, W, K, chunk=chunk, rays=batch_rays,\n",
        "                                                verbose=i < 10, retraw=True,\n",
        "                                                **render_kwargs_train)\n",
        "\n",
        "        rgb_img = rgb.view(sample_scale, sample_scale, -1)\n",
        "        target = target_s.view(sample_scale, sample_scale, -1)\n",
        "        rgb_img = rgb_img.permute(2,0,1).unsqueeze(0)\n",
        "        rgb_img_gray = kornia.color.rgb_to_grayscale(rgb_img)\n",
        "        target_img = target.permute(2,0,1).unsqueeze(0)\n",
        "        target_img_gray = kornia.color.rgb_to_grayscale(target_img)\n",
        "\n",
        "        optimizer.zero_grad()\n",
        "\n",
        "        img_loss = img2mse(rgb_img_gray, target_img_gray)\n",
        "        loss = img_loss\n",
        "        psnr = mse2psnr(img_loss)\n",
        "\n",
        "        if 'rgb0' in extras:\n",
        "            rgb0_img = extras['rgb0'].view(sample_scale, sample_scale, -1)\n",
        "            rgb0_img = rgb0_img.permute(2,0,1).unsqueeze(0)\n",
        "            rgb0_img_gray = kornia.color.rgb_to_grayscale(rgb0_img)\n",
        "            img_loss0 = img2mse(rgb0_img_gray, target_img_gray)\n",
        "            loss = loss + img_loss0\n",
        "\n",
        "        if use_clip:\n",
        "            gen_img = rgb_img\n",
        "            c_loss = clip_loss(gen_img, text_inputs)\n",
        "            loss = loss + c_loss * w_clip\n",
        "\n",
        "            if 'rgb0' in extras:\n",
        "                gen_img_rgb0 = extras['rgb0'].view(sample_scale, sample_scale, -1).permute(2,0,1).unsqueeze(0)\n",
        "                c_loss_rgb0 = clip_loss(gen_img_rgb0, text_inputs)\n",
        "                loss = loss + c_loss_rgb0 * w_clip\n",
        "\n",
        "        loss.backward()\n",
        "        optimizer.step()\n",
        "\n",
        "        # Update learning rate\n",
        "        decay_rate = 0.1\n",
        "        decay_steps = lrate_decay * 1000\n",
        "        new_lrate = lrate * (decay_rate ** (global_step / decay_steps))\n",
        "        for param_group in optimizer.param_groups:\n",
        "            param_group['lr'] = new_lrate\n",
        "\n",
        "        # Rest is logging\n",
        "        if i%i_weights==0:\n",
        "            path = os.path.join('/content/drive/MyDrive/clipnerf/', expname, '{:06d}.tar'.format(i))\n",
        "            torch.save({\n",
        "                'global_step': global_step,\n",
        "                'network_fn_state_dict': render_kwargs_train['network_fn'].state_dict(),\n",
        "                'optimizer_state_dict': optimizer.state_dict(),\n",
        "            }, path)\n",
        "            print('Saved checkpoints at', path)\n",
        "\n",
        "        # if i%i_weights==0 and i > 0:\n",
        "        #     # Turn on testing mode\n",
        "        #     with torch.no_grad():\n",
        "        #         rgbs, disps = render_path(render_poses, hwf, K, chunk, render_kwargs_test)\n",
        "        #     print('Done, saving', rgbs.shape, disps.shape)\n",
        "        #     moviebase = os.path.join('/content/drive/MyDrive/clipnerf/', expname, '{:06d}_'.format(i))\n",
        "        #     imageio.mimwrite(moviebase + 'rgb.mp4', to8b(rgbs), fps=30, quality=8)\n",
        "        #     imageio.mimwrite(moviebase + 'disp.mp4', to8b(disps / np.max(disps)), fps=30, quality=8)\n",
        "\n",
        "        if i%i_testset==0 and i > 0:\n",
        "            testsavedir = os.path.join('/content/drive/MyDrive/clipnerf/', expname, 'testset_{:06d}'.format(i))\n",
        "            os.makedirs(testsavedir, exist_ok=True)\n",
        "            with torch.no_grad():\n",
        "                render_path(torch.Tensor(poses[i_test]).to(device), hwf, K, chunk, render_kwargs_test, gt_imgs=images[i_test], savedir=testsavedir)\n",
        "            print('Saved test set')\n",
        "\n",
        "        if i%i_print==0:\n",
        "            if use_clip:\n",
        "                tqdm.write(f\"[TRAIN] Iter: {i} Loss: {loss.item()}  CLoss: {c_loss.item()} PSNR: {psnr.item()}\")\n",
        "            else:\n",
        "                tqdm.write(f\"[TRAIN] Iter: {i} Loss: {loss.item()} PSNR: {psnr.item()}\")\n",
        "\n",
        "        global_step += 1\n"
      ]
    },
    {
      "cell_type": "code",
      "execution_count": null,
      "metadata": {
        "colab": {
          "base_uri": "https://localhost:8080/",
          "height": 1000
        },
        "id": "7fmgWHi1ez5L",
        "outputId": "0759640f-ef81-4bb9-b732-41bb9681d601"
      },
      "outputs": [
        {
          "name": "stdout",
          "output_type": "stream",
          "text": [
            "Loaded blender (138, 400, 400, 4) torch.Size([40, 4, 4]) [400, 400, 555.5555155968841] ./data/nerf_synthetic/lego\n",
            "intrinsic param: \n",
            " [[555.5555156   0.        200.       ]\n",
            " [  0.        555.5555156 200.       ]\n",
            " [  0.          0.          1.       ]]\n",
            "camera pose: \n",
            " [[-9.9990219e-01  4.1922452e-03 -1.3345719e-02 -5.3798322e-02]\n",
            " [-1.3988681e-02 -2.9965907e-01  9.5394367e-01  3.8454704e+00]\n",
            " [-4.6566129e-10  9.5403719e-01  2.9968831e-01  1.2080823e+00]\n",
            " [ 0.0000000e+00  0.0000000e+00  0.0000000e+00  1.0000000e+00]]\n"
          ]
        },
        {
          "data": {
            "image/png": "[encoded data removed]",
            "text/plain": [
              "<Figure size 640x480 with 1 Axes>"
            ]
          },
          "metadata": {},
          "output_type": "display_data"
        },
        {
          "name": "stdout",
          "output_type": "stream",
          "text": [
            "Not ndc!\n",
            "Begin\n",
            "TRAIN views are [ 0  1  2  3  4  5  6  7  8  9 10 11 12 13 14 15 16 17 18 19 20 21 22 23\n",
            " 24 25 26 27 28 29 30 31 32 33 34 35 36 37 38 39 40 41 42 43 44 45 46 47\n",
            " 48 49 50 51 52 53 54 55 56 57 58 59 60 61 62 63 64 65 66 67 68 69 70 71\n",
            " 72 73 74 75 76 77 78 79 80 81 82 83 84 85 86 87 88 89 90 91 92 93 94 95\n",
            " 96 97 98 99]\n",
            "TEST views are [113 114 115 116 117 118 119 120 121 122 123 124 125 126 127 128 129 130\n",
            " 131 132 133 134 135 136 137]\n",
            "VAL views are [100 101 102 103 104 105 106 107 108 109 110 111 112]\n"
          ]
        },
        {
          "name": "stderr",
          "output_type": "stream",
          "text": [
            " 10%|▉         | 500/5001 [06:59<1:03:58,  1.17it/s]"
          ]
        },
        {
          "name": "stdout",
          "output_type": "stream",
          "text": [
            "Saved checkpoints at /content/drive/MyDrive/clipnerf/blender_paper_lego/000500.tar\n"
          ]
        },
        {
          "name": "stderr",
          "output_type": "stream",
          "text": [
            " 20%|█▉        | 999/5001 [13:58<57:00,  1.17it/s]"
          ]
        },
        {
          "name": "stdout",
          "output_type": "stream",
          "text": [
            "Saved checkpoints at /content/drive/MyDrive/clipnerf/blender_paper_lego/001000.tar\n"
          ]
        },
        {
          "name": "stderr",
          "output_type": "stream",
          "text": [
            "\n",
            "  0%|          | 0/25 [00:00<?, ?it/s]\u001b[A\n",
            "  4%|▍         | 1/25 [00:06<02:27,  6.13s/it]\u001b[A"
          ]
        },
        {
          "name": "stdout",
          "output_type": "stream",
          "text": [
            "torch.Size([400, 400, 3]) torch.Size([400, 400])\n"
          ]
        },
        {
          "name": "stderr",
          "output_type": "stream",
          "text": [
            "\n",
            "  8%|▊         | 2/25 [00:12<02:21,  6.15s/it]\u001b[A\n",
            " 12%|█▏        | 3/25 [00:18<02:15,  6.17s/it]\u001b[A\n",
            " 16%|█▌        | 4/25 [00:24<02:09,  6.17s/it]\u001b[A\n",
            " 20%|██        | 5/25 [00:30<02:03,  6.17s/it]\u001b[A\n",
            " 24%|██▍       | 6/25 [00:36<01:57,  6.16s/it]\u001b[A\n",
            " 28%|██▊       | 7/25 [00:43<01:50,  6.15s/it]\u001b[A\n",
            " 32%|███▏      | 8/25 [00:49<01:44,  6.14s/it]\u001b[A\n",
            " 36%|███▌      | 9/25 [00:55<01:37,  6.12s/it]\u001b[A\n",
            " 40%|████      | 10/25 [01:01<01:31,  6.11s/it]\u001b[A\n",
            " 44%|████▍     | 11/25 [01:07<01:25,  6.10s/it]\u001b[A\n",
            " 48%|████▊     | 12/25 [01:13<01:19,  6.10s/it]\u001b[A\n",
            " 52%|█████▏    | 13/25 [01:19<01:13,  6.10s/it]\u001b[A\n",
            " 56%|█████▌    | 14/25 [01:25<01:07,  6.10s/it]\u001b[A\n",
            " 60%|██████    | 15/25 [01:31<01:01,  6.10s/it]\u001b[A\n",
            " 64%|██████▍   | 16/25 [01:38<00:54,  6.11s/it]\u001b[A\n",
            " 68%|██████▊   | 17/25 [01:44<00:48,  6.11s/it]\u001b[A\n",
            " 72%|███████▏  | 18/25 [01:50<00:42,  6.12s/it]\u001b[A\n",
            " 76%|███████▌  | 19/25 [01:56<00:36,  6.12s/it]\u001b[A\n",
            " 80%|████████  | 20/25 [02:02<00:30,  6.13s/it]\u001b[A\n",
            " 84%|████████▍ | 21/25 [02:08<00:24,  6.13s/it]\u001b[A\n",
            " 88%|████████▊ | 22/25 [02:14<00:18,  6.13s/it]\u001b[A\n",
            " 92%|█████████▏| 23/25 [02:20<00:12,  6.12s/it]\u001b[A\n",
            " 96%|█████████▌| 24/25 [02:27<00:06,  6.12s/it]\u001b[A\n",
            "100%|██████████| 25/25 [02:33<00:00,  6.12s/it]\n",
            " 20%|█▉        | 1000/5001 [16:32<52:01:20, 46.81s/it]"
          ]
        },
        {
          "name": "stdout",
          "output_type": "stream",
          "text": [
            "Saved test set\n",
            "[TRAIN] Iter: 1000 Loss: 0.90234375  CLoss: 0.8154296875 PSNR: 10.61667251586914\n"
          ]
        },
        {
          "name": "stderr",
          "output_type": "stream",
          "text": [
            " 27%|██▋       | 1366/5001 [21:38<50:45,  1.19it/s]"
          ]
        }
      ],
      "source": [
        "torch.set_default_tensor_type('torch.cuda.FloatTensor')\n",
        "train()"
      ]
    },
    {
      "cell_type": "code",
      "execution_count": null,
      "metadata": {
        "id": "vJ6SDZ3yOITD"
      },
      "outputs": [],
      "source": [
        "# !python run_nerf_clip.py --config configs/lego.txt --description \"red lego\""
      ]
    },
    {
      "cell_type": "markdown",
      "metadata": {
        "id": "e8UzcBHMz6R0"
      },
      "source": [
        "###Part 3.2 Plot trained result"
      ]
    },
    {
      "cell_type": "code",
      "execution_count": null,
      "metadata": {
        "id": "7Z6LkKWa3DPg"
      },
      "outputs": [],
      "source": [
        "from IPython.display import HTML\n",
        "from base64 import b64encode\n",
        "\n",
        "path200 = \"/content/drive/MyDrive/clipnerf/blender_paper_lego\"\n",
        "path400 = \"blender_paper_lego_spiral_000400_rgb.mp4\"\n",
        "path600 = \"blender_paper_lego_spiral_000600_rgb.mp4\"\n",
        "\n",
        "\n",
        "# Function to display the video\n",
        "def display_video(file_path):\n",
        "    video_file = open(file_path, 'rb')\n",
        "    video_contents = video_file.read()\n",
        "    video_encoded = b64encode(video_contents).decode('ascii')\n",
        "\n",
        "    # Create HTML code to embed the video\n",
        "    html_code = f'''\n",
        "    <video width=\"640\" height=\"480\" controls>\n",
        "        <source src=\"data:video/mp4;base64,{video_encoded}\" type=\"video/mp4\">\n",
        "        Your browser does not support the video tag.\n",
        "    </video>\n",
        "    '''\n",
        "\n",
        "    # Display the HTML code\n",
        "    display(HTML(html_code))\n",
        "\n",
        "# Display the video\n",
        "display_video(path200)\n",
        "display_video(path400)\n",
        "display_video(path600)"
      ]
    },
    {
      "cell_type": "code",
      "execution_count": null,
      "metadata": {
        "id": "uTy_qCr3Myl1"
      },
      "outputs": [],
      "source": [
        "from PIL import Image\n",
        "\n",
        "directory = '/content/drive/MyDrive/clipnerf/blender_paper_lego/testset_000500'\n",
        "\n",
        "all_files = [f for f in os.listdir(directory) if os.path.isfile(os.path.join(directory, f))]\n",
        "random_files = random.sample(all_files, 3)\n",
        "fig, axs = plt.subplots(1, 3, figsize=(10, 10))\n",
        "\n",
        "for i, file in enumerate(random_files):\n",
        "    file_path = os.path.join(directory, file)\n",
        "\n",
        "    img = Image.open(file_path)\n",
        "    axs[i].imshow(img)\n",
        "    axs[i].axis('off')\n",
        "    axs[i].set_title(f'Image {i + 1}')\n",
        "\n",
        "plt.show()"
      ]
    }
  ],
  "metadata": {
    "accelerator": "GPU",
    "colab": {
      "gpuType": "T4",
      "include_colab_link": true,
      "machine_shape": "hm",
      "provenance": []
    },
    "kernelspec": {
      "display_name": "Python 3",
      "name": "python3"
    },
    "language_info": {
      "name": "python"
    }
  },
  "nbformat": 4,
  "nbformat_minor": 0
}
